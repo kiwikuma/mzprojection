{
 "cells": [
  {
   "cell_type": "markdown",
   "metadata": {},
   "source": [
    "***(i) Import the function from the module \"mzprojection\"***"
   ]
  },
  {
   "cell_type": "code",
   "execution_count": null,
   "metadata": {},
   "outputs": [],
   "source": [
    "import numpy as np\n",
    "import matplotlib.pyplot as plt\n",
    "from mzprojection import mzprojection_ensemble_of_time_series\n",
    "\n",
    "#help(mzprojection_ensemble_of_time_series)"
   ]
  },
  {
   "cell_type": "markdown",
   "metadata": {},
   "source": [
    "***(ii) Prepare ensemble of time series data***  \n",
    "Here, we split a long time-series data of statistically steady state into some number of short-time ensembles."
   ]
  },
  {
   "cell_type": "code",
   "execution_count": null,
   "metadata": {},
   "outputs": [],
   "source": [
    "#= Read sample data =\n",
    "indata = np.loadtxt('../sample_data/sample_time_series.dat')\n",
    "time     = indata[:,0]                      # Time\n",
    "u_raw    = indata[:,1] + 1.0j * indata[:,2] # Variable of interest u(t)\n",
    "dudt_raw = indata[:,3] + 1.0j * indata[:,4] # = du/dt\n",
    "f_raw    = indata[:,5] + 1.0j * indata[:,6] # Analyzed data f(t)\n",
    "\n",
    "fig = plt.figure(figsize=(14,2.5))\n",
    "ax = fig.add_subplot(111)\n",
    "ax.set_xlim(0,1000)\n",
    "ax.set_xticks(np.arange(0,1001,100))\n",
    "ax.set_ylim(-0.1,0.1)\n",
    "ax.set_xlabel(\"Time t\")\n",
    "ax.set_ylabel(\"Long time-series u(t), f(t)\")\n",
    "ax.plot(time,f_raw.real*10,label=\"Re[f(t)]x10\")\n",
    "ax.plot(time,u_raw.real,label=\"Re[u(t)]\")\n",
    "plt.legend()\n",
    "plt.show()"
   ]
  },
  {
   "cell_type": "code",
   "execution_count": null,
   "metadata": {
    "jupyter": {
     "source_hidden": true
    }
   },
   "outputs": [],
   "source": [
    "#= Parameters for ensemble average =\n",
    "nrec    = len(time)         # Total record number                \n",
    "ista    = 2000              # Start record number for sampling   \n",
    "nperiod = 500               # Length of a sample                 \n",
    "nshift  = 1                 # Length of time shift while sampling\n",
    "delta_t = time[1] - time[0] # Time step size                     \n",
    "\n",
    "nsample = int((nrec-ista-nperiod)/nshift) + 1\n",
    "u    = np.zeros([nperiod,nsample], dtype=np.complex128)\n",
    "dudt = np.zeros([nperiod,nsample], dtype=np.complex128)\n",
    "f    = np.zeros([nperiod,nsample], dtype=np.complex128)\n",
    "for iperiod in range(nperiod):\n",
    "    u[   iperiod,:] =    u_raw[ista+iperiod:ista+iperiod+nshift*(nsample-1)+1:nshift]\n",
    "    dudt[iperiod,:] = dudt_raw[ista+iperiod:ista+iperiod+nshift*(nsample-1)+1:nshift]\n",
    "    f[   iperiod,:] =    f_raw[ista+iperiod:ista+iperiod+nshift*(nsample-1)+1:nshift]\n",
    "\n",
    "fig = plt.figure(figsize=(14,2.5))\n",
    "ax = fig.add_subplot(161)\n",
    "ax.set_ylim(-0.1,0.1)\n",
    "ax.set_xlabel(\"Time t\")\n",
    "ax.set_ylabel(\"Ensemble u(t), f(t)\")\n",
    "isample=0\n",
    "ax.plot(time[ista+nshift*isample:ista+nshift*isample+nperiod],f[:,isample].real*10,label=\"Re[f(t)]x10\")\n",
    "ax.plot(time[ista+nshift*isample:ista+nshift*isample+nperiod],u[:,isample].real,label=\"Re[u(t)]\")\n",
    "plt.legend()\n",
    "\n",
    "ax = fig.add_subplot(162)\n",
    "ax.set_ylim(-0.1,0.1)\n",
    "ax.set_yticklabels([])\n",
    "ax.set_xlabel(\"Time t\")\n",
    "isample=250\n",
    "ax.plot(time[ista+nshift*isample:ista+nshift*isample+nperiod],f[:,isample].real*10,label=\"Re[f(t)]x10\")\n",
    "ax.plot(time[ista+nshift*isample:ista+nshift*isample+nperiod],u[:,isample].real,label=\"Re[u(t)]\")\n",
    "\n",
    "ax = fig.add_subplot(163)\n",
    "ax.set_ylim(-0.1,0.1)\n",
    "ax.set_yticklabels([])\n",
    "ax.set_xlabel(\"Time t\")\n",
    "isample=500\n",
    "ax.plot(time[ista+nshift*isample:ista+nshift*isample+nperiod],f[:,isample].real*10,label=\"Re[f(t)]x10\")\n",
    "ax.plot(time[ista+nshift*isample:ista+nshift*isample+nperiod],u[:,isample].real,label=\"Re[u(t)]\")\n",
    "\n",
    "ax = fig.add_subplot(164)\n",
    "ax.set_ylim(-0.1,0.1)\n",
    "ax.set_yticklabels([])\n",
    "ax.set_xlabel(\"Time t\")\n",
    "isample=3000\n",
    "ax.plot(time[ista+nshift*isample:ista+nshift*isample+nperiod],f[:,isample].real*10,label=\"Re[f(t)]x10\")\n",
    "ax.plot(time[ista+nshift*isample:ista+nshift*isample+nperiod],u[:,isample].real,label=\"Re[u(t)]\")\n",
    "\n",
    "plt.show()"
   ]
  },
  {
   "cell_type": "markdown",
   "metadata": {},
   "source": [
    "***(iii) Apply the Moti-Zwanzig projection operator method***  \n",
    "The projection of $f(t)^i$ on $u(t)^i$ is calculated as,  \n",
    "    $f(t)=\\Omega u(t)+s(t)+r(t)$,  \n",
    "    $s(t)=-\\int_0^t \\Gamma(t) u(t-v)dv$.  \n",
    "The Markov coefficient $\\Omega$, the memory function $\\Gamma(t)$ and the uncorrelated term $r(t)$ are obtained as outputs.  \n",
    "(Some correlations, e.g., $\\langle r(t) u \\rangle$ are also obtained to check the result.)"
   ]
  },
  {
   "cell_type": "code",
   "execution_count": null,
   "metadata": {},
   "outputs": [],
   "source": [
    "omega, memoryf, s, r, uu, ududt, fdudt, rr, rdudt, ru, fu, ff = \\\n",
    "    mzprojection_ensemble_of_time_series(nsample, nperiod, delta_t, u, dudt, f)"
   ]
  },
  {
   "cell_type": "markdown",
   "metadata": {},
   "source": [
    "***(iv-a) Check results: plot $\\Omega$ and $\\Gamma(t)$***  "
   ]
  },
  {
   "cell_type": "code",
   "execution_count": null,
   "metadata": {},
   "outputs": [],
   "source": [
    "print(\"Markov coefficient Omega = \", omega)\n",
    "\n",
    "fig = plt.figure()\n",
    "ax = fig.add_subplot(111)\n",
    "ax.set_xlabel(\"Correlation time t\")\n",
    "ax.set_ylabel(\"Memory function $\\Gamma(t)$\")\n",
    "ax.plot(delta_t*np.arange(len(memoryf)),memoryf.real,label=\"Re[$\\Gamma(t)$]\")\n",
    "ax.plot(delta_t*np.arange(len(memoryf)),memoryf.imag,label=\"Im[$\\Gamma(t)$]\")\n",
    "plt.legend()\n",
    "plt.show()"
   ]
  },
  {
   "cell_type": "markdown",
   "metadata": {},
   "source": [
    "***(iv-b) Check results: plot time evolution of $f(t)=\\Omega u(t)+s(t)+r(t)$***  "
   ]
  },
  {
   "cell_type": "code",
   "execution_count": null,
   "metadata": {},
   "outputs": [],
   "source": [
    "fig = plt.figure()\n",
    "ax = fig.add_subplot(111)\n",
    "ax.set_xlabel(\"Time t\")\n",
    "ax.set_ylabel(\"$f(t)=\\Omega u(t)+s(t)+r(t)$\")\n",
    "isample=2000\n",
    "ax.plot(time[ista+nshift*isample:ista+nshift*isample+nperiod],f[:,isample].real,label=\"Re[f(t)]\")\n",
    "ax.plot(time[ista+nshift*isample:ista+nshift*isample+nperiod],(omega*u[:,isample]).real,label=\"Re[$\\Omega$u(t)]\")\n",
    "ax.plot(time[ista+nshift*isample:ista+nshift*isample+nperiod],s[:,isample].real,label=\"Re[s(t)]\")\n",
    "ax.plot(time[ista+nshift*isample:ista+nshift*isample+nperiod],r[:,isample].real,label=\"Re[r(t)]\")\n",
    "plt.legend()\n",
    "plt.show()"
   ]
  },
  {
   "cell_type": "markdown",
   "metadata": {},
   "source": [
    "***(iv-c) Check results: Extended generalized fluctuation-dissipation theorem $\\Gamma(t) = \\langle r(t) du/dt \\rangle / \\langle u u \\rangle$***  "
   ]
  },
  {
   "cell_type": "code",
   "execution_count": null,
   "metadata": {},
   "outputs": [],
   "source": [
    "fig = plt.figure()\n",
    "ax = fig.add_subplot(111)\n",
    "ax.set_xlabel(\"Correlation time t\")\n",
    "ax.set_ylabel(r\"$\\Gamma(t) = \\langle r(t) du/dt \\rangle / \\langle u u \\rangle$\")\n",
    "ax.plot(delta_t*np.arange(len(memoryf)),memoryf.real,label=\"Re[$\\Gamma(t)$]\")\n",
    "ax.plot(delta_t*np.arange(len(memoryf)),memoryf.imag,label=\"Im[$\\Gamma(t)$]\")\n",
    "ax.plot(delta_t*np.arange(len(memoryf)),(rdudt/uu[0]).real,label=r\"Re[$\\langle r(t) du/dt \\rangle / \\langle u u \\rangle$]\",dashes=[4,4],linewidth=4)\n",
    "ax.plot(delta_t*np.arange(len(memoryf)),(rdudt/uu[0]).imag,label=r\"Im[$\\langle r(t) du/dt \\rangle / \\langle u u \\rangle$]\",dashes=[4,4],linewidth=4)\n",
    "plt.legend()\n",
    "plt.show()"
   ]
  },
  {
   "cell_type": "markdown",
   "metadata": {},
   "source": [
    "***(iv-d) Check results: $\\langle r(t) u \\rangle = 0$***  \n",
    "Namely, the uncorrelated term $r(t)$ indeed extracts the part of $f(t)$ uncorrelated with $u$. It is checked by $\\langle r(t) u \\rangle \\ll \\langle f(t) u \\rangle$."
   ]
  },
  {
   "cell_type": "code",
   "execution_count": null,
   "metadata": {},
   "outputs": [],
   "source": [
    "fig = plt.figure()\n",
    "ax = fig.add_subplot(111)\n",
    "ax.set_xlabel(\"Correlation time t\")\n",
    "ax.set_ylabel(\"Correlation$\")\n",
    "ax.plot(delta_t*np.arange(len(ru)),ru.real,label=r\"Re[$\\langle r(t) u \\rangle$]\")\n",
    "ax.plot(delta_t*np.arange(len(ru)),ru.imag,label=r\"Im[$\\langle r(t) u \\rangle$]\")\n",
    "ax.plot(delta_t*np.arange(len(ru)),fu.real,label=r\"Re[$\\langle f(t) u \\rangle$]\")\n",
    "ax.plot(delta_t*np.arange(len(ru)),fu.imag,label=r\"Im[$\\langle f(t) u \\rangle$]\")\n",
    "plt.legend()\n",
    "plt.show()"
   ]
  },
  {
   "cell_type": "code",
   "execution_count": null,
   "metadata": {},
   "outputs": [],
   "source": []
  },
  {
   "cell_type": "code",
   "execution_count": null,
   "metadata": {},
   "outputs": [],
   "source": []
  }
 ],
 "metadata": {
  "kernelspec": {
   "display_name": "Python 3",
   "language": "python",
   "name": "python3"
  },
  "language_info": {
   "codemirror_mode": {
    "name": "ipython",
    "version": 3
   },
   "file_extension": ".py",
   "mimetype": "text/x-python",
   "name": "python",
   "nbconvert_exporter": "python",
   "pygments_lexer": "ipython3",
   "version": "3.8.2"
  }
 },
 "nbformat": 4,
 "nbformat_minor": 4
}
